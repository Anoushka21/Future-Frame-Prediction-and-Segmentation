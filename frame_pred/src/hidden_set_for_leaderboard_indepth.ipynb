{
 "cells": [
  {
   "cell_type": "code",
   "execution_count": 1,
   "metadata": {
    "_cell_guid": "b1076dfc-b9ad-4769-8c92-a6c4dae69d19",
    "_uuid": "8f2839f25d086af736a60e9eeb907d3b93b6e0e5",
    "tags": []
   },
   "outputs": [],
   "source": [
    "import numpy as np # linear algebra\n",
    "import pandas as pd # data processing, CSV file I/O (e.g. pd.read_csv)\n",
    "import os"
   ]
  },
  {
   "cell_type": "code",
   "execution_count": 2,
   "metadata": {
    "tags": []
   },
   "outputs": [],
   "source": [
    "TRAIN_DATASET_ROOT = '../train_mini'\n",
    "TEST_DATASET_ROOT = '../test_mini'"
   ]
  },
  {
   "cell_type": "code",
   "execution_count": 3,
   "metadata": {
    "tags": []
   },
   "outputs": [
    {
     "name": "stdout",
     "output_type": "stream",
     "text": [
      "13 5\n"
     ]
    }
   ],
   "source": [
    "print(len(os.listdir(TRAIN_DATASET_ROOT)), len(os.listdir(TEST_DATASET_ROOT)))"
   ]
  },
  {
   "cell_type": "code",
   "execution_count": 4,
   "metadata": {
    "tags": []
   },
   "outputs": [],
   "source": [
    "import os\n",
    "import time\n",
    "import torch\n",
    "import pickle\n",
    "import argparse\n",
    "import logging\n",
    "import gc\n",
    "import torchvision\n",
    "import torch.utils.data\n",
    "import matplotlib.pyplot as plt\n",
    "from torchvision import transforms\n",
    "from tensorboardX import SummaryWriter\n",
    "from torch import nn\n",
    "import torchvision.utils as vutils\n",
    "from PIL import Image\n",
    "import json\n",
    "import matplotlib.pyplot as plt\n",
    "%matplotlib inline\n",
    "\n",
    "\n",
    "from models import Generator, Discriminator\n",
    "from losses import SSIM, L1_L2_Loss\n",
    "from utils import init_log, add_file_handler, print_speed, Config, AverageMeter"
   ]
  },
  {
   "cell_type": "code",
   "execution_count": 5,
   "metadata": {
    "tags": []
   },
   "outputs": [],
   "source": [
    "class MovingObjectsDataset(torch.utils.data.Dataset):\n",
    "    def __init__(self, root_dir, transform=None):\n",
    "        self.root_dir = root_dir\n",
    "        self.transform = transform\n",
    "        \n",
    "        # Get the list of folder names in the root directory\n",
    "        self.folder_names = [i for i in os.listdir(self.root_dir) if not i.endswith('.DS_Store')]\n",
    "        \n",
    "    def __len__(self):\n",
    "        # Return the number of folders in the root directory\n",
    "        return len(self.folder_names)\n",
    "    \n",
    "    def __getitem__(self, index):\n",
    "        # Get the folder name corresponding to the given index\n",
    "        folder_name = self.folder_names[index]\n",
    "        \n",
    "        # Get the list of image filenames in the folder\n",
    "        image_filenames = [i for i in os.listdir(os.path.join(self.root_dir, folder_name)) \n",
    "                           if i.endswith('.png')]\n",
    "        image_filenames.sort(key= lambda i: int(i.lstrip('image_').rstrip('.png')))\n",
    "        \n",
    "        # Load the input images and target images into separate tensors\n",
    "        input_images = []\n",
    "        target_images = []\n",
    "        for i, image_filename in enumerate(image_filenames):\n",
    "            image_path = os.path.join(self.root_dir, folder_name, f\"image_{i}.png\")\n",
    "            image = Image.open(image_path).convert('RGB')\n",
    "            if self.transform is not None:\n",
    "                image = self.transform(image)\n",
    "            if i < 11:\n",
    "                # print(f\"{image_filename} going in input\")\n",
    "                input_images.append(image)\n",
    "            else:\n",
    "                # print(f\"{image_filename} going in target\")\n",
    "                target_images.append(image)\n",
    "        \n",
    "        # Convert the input and target image lists to tensors\n",
    "        input_tensor = torch.stack(input_images)\n",
    "        target_tensor = torch.stack(target_images)\n",
    "        \n",
    "        return input_tensor, target_tensor"
   ]
  },
  {
   "cell_type": "code",
   "execution_count": 6,
   "metadata": {
    "tags": []
   },
   "outputs": [],
   "source": [
    "def create_config_json(cfg, output_file):\n",
    "    with open(output_file, \"w\") as outfile:\n",
    "        json.dump(cfg, outfile)\n",
    "\n",
    "cfg = {\n",
    "    'meta':\n",
    "    {\n",
    "        'board_path': 'board',\n",
    "        'board_path_epoch': 'board_epoch'\n",
    "    },\n",
    "    'train':\n",
    "    {\n",
    "        'epochs': 2,\n",
    "        'batch_size': 2,\n",
    "        'lr': 0.001,\n",
    "        'print_frequency': 1\n",
    "    },\n",
    "    'model':\n",
    "    {\n",
    "        'input_size': [40, 60],\n",
    "        'input_dim': 3,\n",
    "        'hidden_dim': 64,\n",
    "        'kernel_size': [3, 3],\n",
    "        'future_frames': 11\n",
    "    }\n",
    "}\n",
    "create_config_json(cfg=cfg, output_file='config_1.json')"
   ]
  },
  {
   "cell_type": "code",
   "execution_count": 7,
   "metadata": {
    "tags": []
   },
   "outputs": [],
   "source": [
    "main_worker = True\n",
    "\n",
    "cfg = Config('config_1.json')\n",
    "lr = cfg.train[\"lr\"]\n",
    "epochs = cfg.train[\"epochs\"]\n",
    "board_path = cfg.meta[\"board_path\"]\n",
    "board_path_epoch = cfg.meta[\"board_path_epoch\"]\n",
    "batch_size = cfg.train[\"batch_size\"]\n",
    "num_future_frame = cfg.model[\"future_frames\"]\n",
    "print_freq = cfg.train[\"print_frequency\"]\n",
    "img_size = cfg.model[\"input_size\"]\n",
    "\n",
    "file_identifier = f'{batch_size}_{epochs}_{img_size[0]}{img_size[1]}'\n",
    "\n",
    "\n",
    "cfg.log_dict()\n",
    "avg = AverageMeter()\n",
    "\n",
    "device = torch.device(f\"cuda\" if torch.cuda.is_available() else \"cpu\")"
   ]
  },
  {
   "cell_type": "code",
   "execution_count": 8,
   "metadata": {
    "tags": []
   },
   "outputs": [],
   "source": [
    "# Create dataloaders for train and test dataset\n",
    "train_dataset = MovingObjectsDataset(\n",
    "    root_dir=f'{TRAIN_DATASET_ROOT}',\n",
    "    transform=transforms.Compose(\n",
    "            [\n",
    "                transforms.Resize((img_size[0], img_size[1])),\n",
    "                transforms.ToTensor(),\n",
    "                transforms.Normalize(mean=[0.485, 0.456, 0.406], std=[0.229, 0.224, 0.225])\n",
    "            ]\n",
    "        )\n",
    "    )\n",
    "\n",
    "train_loader = torch.utils.data.DataLoader(\n",
    "    dataset=train_dataset,\n",
    "    batch_size=batch_size,\n",
    "    shuffle=False)\n",
    "\n",
    "\n",
    "test_dataset = MovingObjectsDataset(\n",
    "    root_dir=f'{TEST_DATASET_ROOT}',\n",
    "    transform=transforms.Compose(\n",
    "            [\n",
    "                transforms.Resize((img_size[0], img_size[1])),\n",
    "                transforms.ToTensor(),\n",
    "                transforms.Normalize(mean=[0.485, 0.456, 0.406], std=[0.229, 0.224, 0.225])\n",
    "            ]\n",
    "        )\n",
    "    )\n",
    "\n",
    "\n",
    "test_loader = torch.utils.data.DataLoader(\n",
    "    dataset=test_dataset,\n",
    "    batch_size=batch_size,\n",
    "    shuffle=False)\n",
    "\n",
    "\n",
    "test_iter = iter(test_loader)"
   ]
  },
  {
   "cell_type": "code",
   "execution_count": null,
   "metadata": {},
   "outputs": [],
   "source": []
  },
  {
   "cell_type": "code",
   "execution_count": null,
   "metadata": {},
   "outputs": [],
   "source": []
  },
  {
   "cell_type": "code",
   "execution_count": 9,
   "metadata": {
    "tags": []
   },
   "outputs": [
    {
     "name": "stdout",
     "output_type": "stream",
     "text": [
      "torch.Size([2, 11, 3, 40, 60]) torch.Size([2, 11, 3, 40, 60])\n"
     ]
    }
   ],
   "source": [
    "## Check train dataset\n",
    "batch_images, batch_targets = next(iter(train_loader))\n",
    "print(batch_images.shape, batch_targets.shape)"
   ]
  },
  {
   "cell_type": "code",
   "execution_count": 10,
   "metadata": {
    "tags": []
   },
   "outputs": [
    {
     "data": {
      "image/png": "[encoded data removed]",
      "text/plain": [
       "<Figure size 4400x800 with 22 Axes>"
      ]
     },
     "metadata": {},
     "output_type": "display_data"
    }
   ],
   "source": [
    "# Create a figure with 22 subplots\n",
    "fig, axs = plt.subplots(nrows=2, ncols=11, figsize=(44, 8))\n",
    "\n",
    "# Loop over the subplots and plot the images\n",
    "for i in range(11):\n",
    "    # Plot the first vector\n",
    "    axs[0, i].imshow(np.clip(np.array(np.transpose(batch_images[0][i], (1, 2, 0))), 0, 1))\n",
    "    axs[0, i].set_title('Input Image ' + str(i+1))\n",
    "    \n",
    "    # Plot the second vector\n",
    "    axs[1, i].imshow(np.clip(np.array(np.transpose(batch_targets[0][i], (1, 2, 0))), 0, 1))\n",
    "    axs[1, i].set_title('Target Image ' + str(i+1))\n",
    "    \n",
    "    # Remove the x and y ticks\n",
    "    axs[0, i].set_xticks([])\n",
    "    axs[0, i].set_yticks([])\n",
    "    axs[1, i].set_xticks([])\n",
    "    axs[1, i].set_yticks([])\n",
    "\n",
    "# Show the plot\n",
    "plt.show()"
   ]
  },
  {
   "cell_type": "markdown",
   "metadata": {},
   "source": [
    "## Training"
   ]
  },
  {
   "cell_type": "code",
   "execution_count": 11,
   "metadata": {
    "tags": []
   },
   "outputs": [],
   "source": [
    "# if main_worker:\n",
    "os.makedirs(os.path.join(os.getcwd(), f\"logs/{file_identifier}\"), exist_ok=True)\n",
    "global_logger = init_log(\"global\", level=logging.INFO)\n",
    "add_file_handler(\"global\", os.path.join(os.getcwd(), f\"logs/{file_identifier}\", \"train.log\"), level=logging.DEBUG)\n",
    "\n",
    "global_logger.debug(\"==>>> Total training batches: {}\".format(len(train_loader)))\n",
    "global_logger.debug(\"==>>> Total testing batches: {}\".format(len(test_loader)))\n",
    "\n",
    "writer = SummaryWriter(os.path.join(\".\", board_path))\n",
    "writer_epoch = SummaryWriter(os.path.join(\".\", board_path_epoch))"
   ]
  },
  {
   "cell_type": "code",
   "execution_count": 12,
   "metadata": {
    "tags": []
   },
   "outputs": [],
   "source": [
    "# Create Generator and Discriminator models\n",
    "generator = Generator(cfg=cfg.model, device=device)\n",
    "generator.to(device)\n",
    "\n",
    "discriminator = Discriminator(cfg=cfg.model)\n",
    "discriminator.to(device)\n",
    "\n",
    "# Define optimizers and LR Schedulers\n",
    "generator_optimizer = torch.optim.Adam(generator.parameters(), lr=lr)\n",
    "discriminator_optimizer = torch.optim.Adam(discriminator.parameters(), lr=lr)\n",
    "\n",
    "generator_scheduler = torch.optim.lr_scheduler.MultiStepLR(\n",
    "    optimizer=generator_optimizer, milestones=[10, 20, 30, 40], gamma=0.5\n",
    ")\n",
    "discriminator_scheduler = torch.optim.lr_scheduler.MultiStepLR(\n",
    "    optimizer=discriminator_optimizer, milestones=[10, 20, 30, 40], gamma=0.5\n",
    ")\n",
    "\n",
    "# Distribute training across multiple GPUs\n",
    "# generator = nn.DataParallel(generator)\n",
    "# discriminator = nn.DataParallel(discriminator)"
   ]
  },
  {
   "cell_type": "code",
   "execution_count": 14,
   "metadata": {
    "tags": []
   },
   "outputs": [],
   "source": [
    "# Begin training (restart from checkpoint if possible)\n",
    "start_epoch = 0\n",
    "if os.path.isfile(f\"../model/model_{file_identifier}.pt\"):\n",
    "    print(\"Restarting training...\")\n",
    "    checkpoint = torch.load(f\"../model/model_{file_identifier}.pt\")\n",
    "    generator.load_state_dict(checkpoint[\"generator_state_dict\"])\n",
    "    generator_optimizer.load_state_dict(checkpoint[\"generator_optimizer_state_dict\"])\n",
    "    discriminator.load_state_dict(checkpoint[\"discriminator_state_dict\"])\n",
    "    discriminator_optimizer.load_state_dict(checkpoint[\"discriminator_optimizer_state_dict\"])\n",
    "    start_epoch = checkpoint[\"epoch\"]"
   ]
  },
  {
   "cell_type": "code",
   "execution_count": 15,
   "metadata": {
    "tags": []
   },
   "outputs": [],
   "source": [
    "# Define losses\n",
    "ssim_loss = SSIM(window_size=12, size_average=True).to(device)\n",
    "l1_l2_loss = L1_L2_Loss().to(device)\n",
    "adversarial_loss = torch.nn.BCELoss().to(device)\n",
    "\n",
    "# Value trackers\n",
    "train_loss_list = []\n",
    "test_loss_list = []\n",
    "train_metric_list = []\n",
    "test_metric_list = []\n"
   ]
  },
  {
   "cell_type": "markdown",
   "metadata": {},
   "source": [
    "## Modified Training Loop"
   ]
  },
  {
   "cell_type": "code",
   "execution_count": 16,
   "metadata": {
    "tags": []
   },
   "outputs": [
    {
     "name": "stdout",
     "output_type": "stream",
     "text": [
      "0\n",
      "<class 'torch.Tensor'> <class 'torch.Tensor'> <class 'torch.Tensor'> <class 'torch.Tensor'> <class 'torch.Tensor'>\n"
     ]
    },
    {
     "name": "stderr",
     "output_type": "stream",
     "text": [
      "[2023-05-01 01:13:52,739-2561908747.py#156] [INFO] Epoch: [1][1/6] step_time: 13.993405 (13.993405)\tgenerator_loss: 1.349046 (1.349046)\tdiscriminator_loss: 1.330182 (1.330182)\ttest_loss: 0.196052 (0.196052)\ttrain_metric: 0.544487 (0.544487)\n",
      "[2023-05-01 01:13:52,740-utils.py#187] [INFO] Progress: 1 / 12 [8%], Speed: 13.993 s/iter, ETA 0:00:02 (D:H:M)\n",
      "\n"
     ]
    },
    {
     "name": "stdout",
     "output_type": "stream",
     "text": [
      "1\n",
      "<class 'torch.Tensor'> <class 'torch.Tensor'> <class 'torch.Tensor'> <class 'torch.Tensor'> <class 'torch.Tensor'>\n"
     ]
    },
    {
     "name": "stderr",
     "output_type": "stream",
     "text": [
      "[2023-05-01 01:14:11,157-2561908747.py#156] [INFO] Epoch: [1][2/6] step_time: 32.719790 (23.356597)\tgenerator_loss: 1.369243 (1.359145)\tdiscriminator_loss: 1.245762 (1.287972)\ttest_loss: 0.178413 (0.187232)\ttrain_metric: 0.526725 (0.535606)\n",
      "[2023-05-01 01:14:11,171-utils.py#187] [INFO] Progress: 2 / 12 [16%], Speed: 23.357 s/iter, ETA 0:00:03 (D:H:M)\n",
      "\n"
     ]
    },
    {
     "name": "stdout",
     "output_type": "stream",
     "text": [
      "2\n",
      "<class 'torch.Tensor'> <class 'torch.Tensor'> <class 'torch.Tensor'> <class 'torch.Tensor'> <class 'torch.Tensor'>\n"
     ]
    },
    {
     "name": "stderr",
     "output_type": "stream",
     "text": [
      "[2023-05-01 01:14:33,459-2561908747.py#156] [INFO] Epoch: [1][3/6] step_time: 54.882262 (33.865152)\tgenerator_loss: 1.421648 (1.379979)\tdiscriminator_loss: 1.158596 (1.244847)\ttest_loss: 0.186505 (0.186990)\ttrain_metric: 0.520672 (0.530628)\n",
      "[2023-05-01 01:14:33,470-utils.py#187] [INFO] Progress: 3 / 12 [25%], Speed: 33.865 s/iter, ETA 0:00:05 (D:H:M)\n",
      "\n"
     ]
    },
    {
     "name": "stdout",
     "output_type": "stream",
     "text": [
      "3\n",
      "<class 'torch.Tensor'> <class 'torch.Tensor'> <class 'torch.Tensor'> <class 'torch.Tensor'> <class 'torch.Tensor'>\n"
     ]
    },
    {
     "name": "stderr",
     "output_type": "stream",
     "text": [
      "[2023-05-01 01:14:55,026-2561908747.py#156] [INFO] Epoch: [1][4/6] step_time: 76.489570 (44.521257)\tgenerator_loss: 1.428251 (1.392047)\tdiscriminator_loss: 1.169580 (1.226030)\ttest_loss: 0.165267 (0.181559)\ttrain_metric: 0.519432 (0.527829)\n",
      "[2023-05-01 01:14:55,038-utils.py#187] [INFO] Progress: 4 / 12 [33%], Speed: 44.521 s/iter, ETA 0:00:05 (D:H:M)\n",
      "\n"
     ]
    },
    {
     "name": "stdout",
     "output_type": "stream",
     "text": [
      "4\n",
      "<class 'torch.Tensor'> <class 'torch.Tensor'> <class 'torch.Tensor'> <class 'torch.Tensor'> <class 'torch.Tensor'>\n"
     ]
    },
    {
     "name": "stderr",
     "output_type": "stream",
     "text": [
      "[2023-05-01 01:15:17,176-2561908747.py#156] [INFO] Epoch: [1][5/6] step_time: 98.713844 (55.359774)\tgenerator_loss: 1.390506 (1.391739)\tdiscriminator_loss: 1.173736 (1.215571)\ttest_loss: 0.178941 (0.181036)\ttrain_metric: 0.564356 (0.535134)\n",
      "[2023-05-01 01:15:17,202-utils.py#187] [INFO] Progress: 5 / 12 [41%], Speed: 55.360 s/iter, ETA 0:00:06 (D:H:M)\n",
      "\n"
     ]
    },
    {
     "name": "stdout",
     "output_type": "stream",
     "text": [
      "5\n",
      "<class 'torch.Tensor'> <class 'torch.Tensor'> <class 'torch.Tensor'> <class 'torch.Tensor'> <class 'torch.Tensor'>\n"
     ]
    },
    {
     "name": "stderr",
     "output_type": "stream",
     "text": [
      "[2023-05-01 01:15:37,425-2561908747.py#156] [INFO] Epoch: [1][0/6] step_time: 118.980256 (65.963188)\tgenerator_loss: 1.165263 (1.353993)\tdiscriminator_loss: 1.263244 (1.223517)\ttest_loss: 0.163170 (0.178058)\ttrain_metric: 0.616551 (0.548704)\n",
      "[2023-05-01 01:15:37,439-utils.py#187] [INFO] Progress: 6 / 12 [50%], Speed: 65.963 s/iter, ETA 0:00:06 (D:H:M)\n",
      "\n"
     ]
    },
    {
     "name": "stdout",
     "output_type": "stream",
     "text": [
      "0\n",
      "1\n",
      "saving model...\n",
      "0\n",
      "<class 'torch.Tensor'> <class 'torch.Tensor'> <class 'torch.Tensor'> <class 'torch.Tensor'> <class 'torch.Tensor'>\n"
     ]
    },
    {
     "name": "stderr",
     "output_type": "stream",
     "text": [
      "[2023-05-01 01:15:57,214-2561908747.py#156] [INFO] Epoch: [2][1/6] step_time: 14.306899 (58.583718)\tgenerator_loss: 1.178307 (1.328895)\tdiscriminator_loss: 1.249545 (1.227235)\ttest_loss: 0.180340 (0.178384)\ttrain_metric: 0.631681 (0.560558)\n",
      "[2023-05-01 01:15:57,227-utils.py#187] [INFO] Progress: 7 / 12 [58%], Speed: 58.584 s/iter, ETA 0:00:04 (D:H:M)\n",
      "\n"
     ]
    },
    {
     "name": "stdout",
     "output_type": "stream",
     "text": [
      "1\n",
      "<class 'torch.Tensor'> <class 'torch.Tensor'> <class 'torch.Tensor'> <class 'torch.Tensor'> <class 'torch.Tensor'>\n"
     ]
    },
    {
     "name": "stderr",
     "output_type": "stream",
     "text": [
      "[2023-05-01 01:16:13,569-2561908747.py#156] [INFO] Epoch: [2][2/6] step_time: 30.540734 (55.078345)\tgenerator_loss: 1.287108 (1.323672)\tdiscriminator_loss: 1.179438 (1.221260)\ttest_loss: 0.166310 (0.176875)\ttrain_metric: 0.598082 (0.565248)\n",
      "[2023-05-01 01:16:13,574-utils.py#187] [INFO] Progress: 8 / 12 [66%], Speed: 55.078 s/iter, ETA 0:00:03 (D:H:M)\n",
      "\n"
     ]
    },
    {
     "name": "stdout",
     "output_type": "stream",
     "text": [
      "2\n",
      "<class 'torch.Tensor'> <class 'torch.Tensor'> <class 'torch.Tensor'> <class 'torch.Tensor'> <class 'torch.Tensor'>\n"
     ]
    },
    {
     "name": "stderr",
     "output_type": "stream",
     "text": [
      "[2023-05-01 01:16:32,079-2561908747.py#156] [INFO] Epoch: [2][3/6] step_time: 49.178863 (54.422847)\tgenerator_loss: 1.516718 (1.345121)\tdiscriminator_loss: 1.056131 (1.202913)\ttest_loss: 0.189813 (0.178312)\ttrain_metric: 0.586276 (0.567585)\n",
      "[2023-05-01 01:16:32,102-utils.py#187] [INFO] Progress: 9 / 12 [75%], Speed: 54.423 s/iter, ETA 0:00:02 (D:H:M)\n",
      "\n"
     ]
    },
    {
     "name": "stdout",
     "output_type": "stream",
     "text": [
      "3\n",
      "<class 'torch.Tensor'> <class 'torch.Tensor'> <class 'torch.Tensor'> <class 'torch.Tensor'> <class 'torch.Tensor'>\n"
     ]
    },
    {
     "name": "stderr",
     "output_type": "stream",
     "text": [
      "[2023-05-01 01:16:54,643-2561908747.py#156] [INFO] Epoch: [2][4/6] step_time: 71.616567 (56.142219)\tgenerator_loss: 1.663709 (1.376980)\tdiscriminator_loss: 1.091757 (1.191797)\ttest_loss: 0.175746 (0.178056)\ttrain_metric: 0.550827 (0.565909)\n",
      "[2023-05-01 01:16:54,660-utils.py#187] [INFO] Progress: 10 / 12 [83%], Speed: 56.142 s/iter, ETA 0:00:01 (D:H:M)\n",
      "\n"
     ]
    },
    {
     "name": "stdout",
     "output_type": "stream",
     "text": [
      "4\n",
      "<class 'torch.Tensor'> <class 'torch.Tensor'> <class 'torch.Tensor'> <class 'torch.Tensor'> <class 'torch.Tensor'>\n"
     ]
    },
    {
     "name": "stderr",
     "output_type": "stream",
     "text": [
      "[2023-05-01 01:17:16,119-2561908747.py#156] [INFO] Epoch: [2][5/6] step_time: 93.111895 (59.503099)\tgenerator_loss: 1.714112 (1.407628)\tdiscriminator_loss: 1.171782 (1.189978)\ttest_loss: 0.198128 (0.179880)\ttrain_metric: 0.554905 (0.564909)\n",
      "[2023-05-01 01:17:16,152-utils.py#187] [INFO] Progress: 11 / 12 [91%], Speed: 59.503 s/iter, ETA 0:00:00 (D:H:M)\n",
      "\n"
     ]
    },
    {
     "name": "stdout",
     "output_type": "stream",
     "text": [
      "5\n",
      "<class 'torch.Tensor'> <class 'torch.Tensor'> <class 'torch.Tensor'> <class 'torch.Tensor'> <class 'torch.Tensor'>\n"
     ]
    },
    {
     "name": "stderr",
     "output_type": "stream",
     "text": [
      "[2023-05-01 01:17:38,090-2561908747.py#156] [INFO] Epoch: [2][0/6] step_time: 114.396065 (64.077512)\tgenerator_loss: 1.525225 (1.417428)\tdiscriminator_loss: 1.390962 (1.206726)\ttest_loss: 0.173248 (0.179328)\ttrain_metric: 0.602491 (0.568040)\n",
      "[2023-05-01 01:17:38,101-utils.py#187] [INFO] Progress: 12 / 12 [100%], Speed: 64.078 s/iter, ETA 0:00:00 (D:H:M)\n",
      "\n"
     ]
    },
    {
     "name": "stdout",
     "output_type": "stream",
     "text": [
      "0\n",
      "1\n"
     ]
    }
   ],
   "source": [
    "# Train loop\n",
    "best_mean_train_loss = float('inf')\n",
    "\n",
    "for epoch in range(start_epoch, epochs):\n",
    "    \n",
    "    start_time = time.time()\n",
    "    total_train_loss = 0.0\n",
    "    total_train_metric = 0.0\n",
    "    total_test_loss = 0.0\n",
    "    total_test_metric = 0.0\n",
    "    \n",
    "    \n",
    "    generator.train()\n",
    "    discriminator.train()\n",
    "\n",
    "    for step, [past_frames, true_future_frames] in enumerate(train_loader):\n",
    "        if epoch == 0 and step == 0:\n",
    "            global_logger.debug(\"Input:  {}\".format(past_frames.shape))\n",
    "            global_logger.debug(\"--- Sample\")\n",
    "            global_logger.debug(\"Target: {}\".format(true_future_frames.shape))\n",
    "\n",
    "        past_frames, true_future_frames = past_frames.to(device), true_future_frames.to(device)\n",
    "        pred_future_frames = generator(past_frames, future=num_future_frame)\n",
    "\n",
    "        # Train discriminator to classify real and predicted frames with label smoothing\n",
    "        discriminator.zero_grad()\n",
    "        seq_target_frames = true_future_frames.squeeze().view(-1, *true_future_frames.shape[3:])\n",
    "        label = torch.empty(seq_target_frames.size(0), device=device).uniform_(0.9, 1)\n",
    "        output = discriminator(seq_target_frames).view(-1)\n",
    "        discriminator_loss_real = adversarial_loss(output, label)\n",
    "\n",
    "        predicted_future_frames_individual = pred_future_frames.squeeze().view(-1, *true_future_frames.shape[3:])\n",
    "        label = torch.empty(predicted_future_frames_individual.size(0), device=device).uniform_(0, 0.1)\n",
    "        output = discriminator(predicted_future_frames_individual).view(-1)\n",
    "        discriminator_loss_fake = adversarial_loss(output, label)\n",
    "\n",
    "        discriminator_loss = discriminator_loss_real + discriminator_loss_fake\n",
    "        discriminator_loss.backward(retain_graph=True)\n",
    "        discriminator_optimizer.step()\n",
    "\n",
    "        # Train generator with adversarial loss with label smoothing\n",
    "        generator.zero_grad()\n",
    "        label = torch.empty(predicted_future_frames_individual.size(0), device=device).uniform_(0.9, 1)\n",
    "        output = discriminator(predicted_future_frames_individual).view(-1)\n",
    "\n",
    "        # Weighted loss for generator model with emphasis on image quality\n",
    "        generator_loss = adversarial_loss(output, label) + 4 * l1_l2_loss(\n",
    "            pred_future_frames[:, -num_future_frame:, :, :, :], true_future_frames[:, -num_future_frame:, :, :, :]\n",
    "        )\n",
    "\n",
    "        generator_loss.backward(retain_graph=True)\n",
    "        generator_optimizer.step()\n",
    "        \n",
    "        # with torch.no_grad():\n",
    "        train_metric = ssim_loss(\n",
    "            pred_future_frames[:, -num_future_frame:, :, :, :],\n",
    "            true_future_frames[:, -num_future_frame:, :, :, :],\n",
    "        )\n",
    "        \n",
    "        total_train_loss += generator_loss.item()\n",
    "        total_train_metric += train_metric.item()\n",
    "        \n",
    "        ### step level logging ###\n",
    "        # Evaluate and test the model\n",
    "        try:\n",
    "            past_frames_test, true_future_frames_test = next(test_iter)\n",
    "        except StopIteration:\n",
    "            test_iter = iter(test_loader)\n",
    "            past_frames_test, true_future_frames_test = next(test_iter)\n",
    "\n",
    "        past_frames_test = past_frames_test.to(device)\n",
    "        true_future_frames_test = true_future_frames_test.to(device)\n",
    "        pred_future_frames_test = generator(past_frames_test, future=num_future_frame)\n",
    "\n",
    "        test_loss = l1_l2_loss(\n",
    "            pred_future_frames_test[:, -num_future_frame:, :, :, :],\n",
    "            true_future_frames_test[:, -num_future_frame:, :, :, :],\n",
    "        )\n",
    "        test_metric = ssim_loss(\n",
    "            pred_future_frames_test[:, -num_future_frame:, :, :, :],\n",
    "            true_future_frames_test[:, -num_future_frame:, :, :, :],\n",
    "        )\n",
    "        \n",
    "        step_time = time.time() - start_time\n",
    "        \n",
    "        ## plotting at step level\n",
    "        ### plot 1st image of test loader everytime\n",
    "        past_frames = torchvision.utils.make_grid(past_frames[0], num_future_frame)\n",
    "        true_future_frames = torchvision.utils.make_grid(true_future_frames[0], num_future_frame)\n",
    "        pred_future_frames = torchvision.utils.make_grid(pred_future_frames[0], num_future_frame)\n",
    "        past_frames_test = torchvision.utils.make_grid(past_frames_test[0], num_future_frame)\n",
    "        true_future_frames_test = torchvision.utils.make_grid(true_future_frames_test[0], num_future_frame)\n",
    "        pred_future_frames_test = torchvision.utils.make_grid(pred_future_frames_test[0], num_future_frame)\n",
    "        \n",
    "        if (step + 1) % print_freq == 0:\n",
    "            current_step = epoch * len(train_loader) + step + 1\n",
    "            os.makedirs(f\"../results/{file_identifier}/{current_step:06d}\", exist_ok=True)\n",
    "\n",
    "            plt.imsave(\n",
    "                f\"../results/{file_identifier}/{current_step:06d}/train_feed_seq.png\",\n",
    "                np.clip(past_frames.cpu().permute(1, 2, 0).numpy(), 0, 1)\n",
    "            )\n",
    "            plt.imsave(\n",
    "                f\"../results/{file_identifier}/{current_step:06d}/train_gt_seq.png\",\n",
    "                np.clip(true_future_frames.cpu().permute(1, 2, 0).numpy(), 0, 1)\n",
    "            )\n",
    "            plt.imsave(\n",
    "                f\"../results/{file_identifier}/{current_step:06d}/train_pred_seq.png\",\n",
    "                np.clip(pred_future_frames.detach().cpu().permute(1, 2, 0).numpy(), 0, 1)\n",
    "            )\n",
    "            plt.imsave(\n",
    "                f\"../results/{file_identifier}/{current_step:06d}/test_feed_seq.png\",\n",
    "                np.clip(past_frames_test.cpu().permute(1, 2, 0).numpy(), 0, 1)\n",
    "            )\n",
    "            plt.imsave(\n",
    "                f\"../results/{file_identifier}/{current_step:06d}/test_gt_seq.png\",\n",
    "                np.clip(true_future_frames_test.cpu().permute(1, 2, 0).numpy(), 0, 1)\n",
    "            )\n",
    "            plt.imsave(\n",
    "                f\"../results/{file_identifier}/{current_step:06d}/test_pred_seq.png\",\n",
    "                np.clip(pred_future_frames_test.detach().cpu().permute(1, 2, 0).numpy(), 0, 1)\n",
    "            )\n",
    "            writer.add_image(f\"train_feed_seq/{current_step:06d}\", past_frames, current_step)\n",
    "            writer.add_image(f\"train_gt_seq/{current_step:06d}\", true_future_frames, current_step)\n",
    "            writer.add_image(f\"train_pred_seq/{current_step:06d}\", pred_future_frames, current_step)\n",
    "            writer.add_image(f\"test_feed_seq/{current_step:06d}\", past_frames_test, current_step)\n",
    "            writer.add_image(f\"test_gt_seq/{current_step:06d}\", true_future_frames_test, current_step)\n",
    "            writer.add_image(f\"test_pred_seq/{current_step:06d}\", pred_future_frames_test, current_step)\n",
    "            \n",
    "        \n",
    "        \n",
    "        writer.add_scalars(\n",
    "            f\"loss/{file_identifier}/merge\",\n",
    "            {\n",
    "                \"generator_loss_step\": generator_loss.item(),\n",
    "                \"discriminator_loss_step\": discriminator_loss.item(),\n",
    "                \"test_loss_step\": test_loss.item(),\n",
    "                \"train_metric_step\": train_metric.item(),\n",
    "                \"test_metric_step\": test_metric.item(),\n",
    "            },\n",
    "            epoch * len(train_loader) + step + 1,\n",
    "        )\n",
    "        avg.update(\n",
    "            step_time=step_time,\n",
    "            generator_loss=generator_loss.item(),\n",
    "            discriminator_loss=discriminator_loss.item(),\n",
    "            test_loss=test_loss.item(),\n",
    "            train_metric=train_metric.item(),\n",
    "        )\n",
    "        if (step + 1) % print_freq == 0:\n",
    "            global_logger.info(\n",
    "                \"Epoch: [{0}][{1}/{2}] {Step_Time:s}\\t{Gen_loss:s}\\t{Disc_loss:s}\\t{Test_loss:s}\\t{Train_metric:s}\".format(\n",
    "                    epoch + 1,\n",
    "                    (step + 1) % len(train_loader),\n",
    "                    len(train_loader),\n",
    "                    Step_Time=avg.step_time,\n",
    "                    Gen_loss=avg.generator_loss,\n",
    "                    Disc_loss=avg.discriminator_loss,\n",
    "                    Test_loss=avg.test_loss,\n",
    "                    Train_metric=avg.train_metric,\n",
    "                )\n",
    "            )\n",
    "            print_speed(epoch * len(train_loader) + step + 1, avg.step_time.avg, epochs * len(train_loader))\n",
    "\n",
    "        \n",
    "    ### epoch level logging ###\n",
    "    # Evaluate and test the model on entire test data\n",
    "    with torch.no_grad():\n",
    "        for test_step, [past_frames_test, true_future_frames_test] in enumerate(test_loader):\n",
    "            past_frames_test = past_frames_test.to(device)\n",
    "            true_future_frames_test = true_future_frames_test.to(device)\n",
    "            pred_future_frames_test = generator(past_frames_test, future=num_future_frame)\n",
    "            \n",
    "            test_loss = l1_l2_loss(\n",
    "            pred_future_frames_test[:, -num_future_frame:, :, :, :],\n",
    "            true_future_frames_test[:, -num_future_frame:, :, :, :],\n",
    "            )\n",
    "            \n",
    "            test_metric = ssim_loss(\n",
    "                pred_future_frames_test[:, -num_future_frame:, :, :, :],\n",
    "                true_future_frames_test[:, -num_future_frame:, :, :, :],\n",
    "            )\n",
    "            \n",
    "            total_test_loss += test_loss.item()\n",
    "            total_test_metric += test_metric.item()\n",
    "\n",
    "    generator_scheduler.step()\n",
    "    discriminator_scheduler.step()\n",
    "\n",
    "    # Log values and store the model outputs on main worker\n",
    "    epoch_time = time.time() - start_time\n",
    "\n",
    "    mean_train_loss = total_train_loss / len(train_dataset)\n",
    "    train_loss_list.append(mean_train_loss)\n",
    "    \n",
    "    mean_test_loss = total_test_loss / len(test_dataset)\n",
    "    test_loss_list.append(mean_test_loss)\n",
    "    \n",
    "    mean_train_metric = total_train_metric / len(train_dataset)\n",
    "    train_metric_list.append(mean_train_metric)\n",
    "    \n",
    "    mean_test_metric = total_test_metric / len(test_dataset)\n",
    "    test_metric_list.append(mean_test_metric)\n",
    "    \n",
    "    writer_epoch.add_scalars(\n",
    "        f\"loss/{file_identifier}/merge\",\n",
    "        {\n",
    "            \"mean_train_loss\": mean_train_loss,\n",
    "            \"mean_test_loss\": mean_test_loss,\n",
    "            \"mean_train_metric\": mean_train_metric,\n",
    "            \"mean_test_metric\": mean_test_metric\n",
    "        },\n",
    "        epoch + 1,\n",
    "    )\n",
    "    \n",
    "    ## saving best model\n",
    "    if mean_train_loss < best_mean_train_loss:\n",
    "        print(f'saving model at epoch: {epoch}')\n",
    "        best_mean_train_loss = mean_train_loss\n",
    "        torch.save(\n",
    "            {\n",
    "                \"epoch\": epoch,\n",
    "                \"generator_state_dict\": generator.state_dict(),\n",
    "                \"generator_optimizer_state_dict\": generator_optimizer.state_dict(),\n",
    "                \"discriminator_state_dict\": discriminator.state_dict(),\n",
    "                \"discriminator_optimizer_state_dict\": discriminator_optimizer.state_dict(),\n",
    "            },\n",
    "            f\"../model/model_{file_identifier}.pt\",\n",
    "        )\n",
    "\n",
    "    gc.collect()"
   ]
  },
  {
   "cell_type": "code",
   "execution_count": null,
   "metadata": {},
   "outputs": [],
   "source": []
  },
  {
   "cell_type": "code",
   "execution_count": 19,
   "metadata": {
    "tags": []
   },
   "outputs": [
    {
     "ename": "RuntimeError",
     "evalue": "number of dims don't match in permute",
     "output_type": "error",
     "traceback": [
      "\u001b[0;31m---------------------------------------------------------------------------\u001b[0m",
      "\u001b[0;31mRuntimeError\u001b[0m                              Traceback (most recent call last)",
      "Cell \u001b[0;32mIn [19], line 23\u001b[0m\n\u001b[1;32m     13\u001b[0m plt\u001b[38;5;241m.\u001b[39mimsave(\n\u001b[1;32m     14\u001b[0m     \u001b[38;5;124mf\u001b[39m\u001b[38;5;124m\"\u001b[39m\u001b[38;5;124m../results/\u001b[39m\u001b[38;5;132;01m{\u001b[39;00mfile_identifier\u001b[38;5;132;01m}\u001b[39;00m\u001b[38;5;124m/\u001b[39m\u001b[38;5;132;01m{\u001b[39;00mcurrent_step\u001b[38;5;132;01m:\u001b[39;00m\u001b[38;5;124m06d\u001b[39m\u001b[38;5;132;01m}\u001b[39;00m\u001b[38;5;124m/test_feed_seq.png\u001b[39m\u001b[38;5;124m\"\u001b[39m,\n\u001b[1;32m     15\u001b[0m     np\u001b[38;5;241m.\u001b[39mclip(past_frames_test\u001b[38;5;241m.\u001b[39mcpu()\u001b[38;5;241m.\u001b[39mpermute(\u001b[38;5;241m1\u001b[39m, \u001b[38;5;241m2\u001b[39m, \u001b[38;5;241m0\u001b[39m)\u001b[38;5;241m.\u001b[39mnumpy(), \u001b[38;5;241m0\u001b[39m, \u001b[38;5;241m1\u001b[39m)\n\u001b[1;32m     16\u001b[0m )\n\u001b[1;32m     17\u001b[0m plt\u001b[38;5;241m.\u001b[39mimsave(\n\u001b[1;32m     18\u001b[0m     \u001b[38;5;124mf\u001b[39m\u001b[38;5;124m\"\u001b[39m\u001b[38;5;124m../results/\u001b[39m\u001b[38;5;132;01m{\u001b[39;00mfile_identifier\u001b[38;5;132;01m}\u001b[39;00m\u001b[38;5;124m/\u001b[39m\u001b[38;5;132;01m{\u001b[39;00mcurrent_step\u001b[38;5;132;01m:\u001b[39;00m\u001b[38;5;124m06d\u001b[39m\u001b[38;5;132;01m}\u001b[39;00m\u001b[38;5;124m/test_gt_seq.png\u001b[39m\u001b[38;5;124m\"\u001b[39m,\n\u001b[1;32m     19\u001b[0m     np\u001b[38;5;241m.\u001b[39mclip(true_future_frames_test\u001b[38;5;241m.\u001b[39mcpu()\u001b[38;5;241m.\u001b[39mpermute(\u001b[38;5;241m1\u001b[39m, \u001b[38;5;241m2\u001b[39m, \u001b[38;5;241m0\u001b[39m)\u001b[38;5;241m.\u001b[39mnumpy(), \u001b[38;5;241m0\u001b[39m, \u001b[38;5;241m1\u001b[39m)\n\u001b[1;32m     20\u001b[0m )\n\u001b[1;32m     21\u001b[0m plt\u001b[38;5;241m.\u001b[39mimsave(\n\u001b[1;32m     22\u001b[0m     \u001b[38;5;124mf\u001b[39m\u001b[38;5;124m\"\u001b[39m\u001b[38;5;124m../results/\u001b[39m\u001b[38;5;132;01m{\u001b[39;00mfile_identifier\u001b[38;5;132;01m}\u001b[39;00m\u001b[38;5;124m/\u001b[39m\u001b[38;5;132;01m{\u001b[39;00mcurrent_step\u001b[38;5;132;01m:\u001b[39;00m\u001b[38;5;124m06d\u001b[39m\u001b[38;5;132;01m}\u001b[39;00m\u001b[38;5;124m/test_pred_seq.png\u001b[39m\u001b[38;5;124m\"\u001b[39m,\n\u001b[0;32m---> 23\u001b[0m     np\u001b[38;5;241m.\u001b[39mclip(pred_future_frames_test\u001b[38;5;241m.\u001b[39mdetach()\u001b[38;5;241m.\u001b[39mcpu()\u001b[38;5;241m.\u001b[39mpermute(\u001b[38;5;241m1\u001b[39m, \u001b[38;5;241m2\u001b[39m, \u001b[38;5;241m0\u001b[39m)\u001b[38;5;241m.\u001b[39mnumpy(), \u001b[38;5;241m0\u001b[39m, \u001b[38;5;241m1\u001b[39m)\n\u001b[1;32m     24\u001b[0m )\n",
      "\u001b[0;31mRuntimeError\u001b[0m: number of dims don't match in permute"
     ]
    }
   ],
   "source": [
    "plt.imsave(\n",
    "    f\"../results/{file_identifier}/{current_step:06d}/train_feed_seq.png\",\n",
    "    np.clip(past_frames.cpu().permute(1, 2, 0).numpy(), 0, 1)\n",
    ")\n",
    "plt.imsave(\n",
    "    f\"../results/{file_identifier}/{current_step:06d}/train_gt_seq.png\",\n",
    "    np.clip(true_future_frames.cpu().permute(1, 2, 0).numpy(), 0, 1)\n",
    ")\n",
    "plt.imsave(\n",
    "    f\"../results/{file_identifier}/{current_step:06d}/train_pred_seq.png\",\n",
    "    np.clip(pred_future_frames.detach().cpu().permute(1, 2, 0).numpy(), 0, 1)\n",
    ")\n",
    "plt.imsave(\n",
    "    f\"../results/{file_identifier}/{current_step:06d}/test_feed_seq.png\",\n",
    "    np.clip(past_frames_test.cpu().permute(1, 2, 0).numpy(), 0, 1)\n",
    ")\n",
    "plt.imsave(\n",
    "    f\"../results/{file_identifier}/{current_step:06d}/test_gt_seq.png\",\n",
    "    np.clip(true_future_frames_test.cpu().permute(1, 2, 0).numpy(), 0, 1)\n",
    ")\n",
    "plt.imsave(\n",
    "    f\"../results/{file_identifier}/{current_step:06d}/test_pred_seq.png\",\n",
    "    np.clip(pred_future_frames_test.detach().cpu().permute(1, 2, 0).numpy(), 0, 1)\n",
    ")"
   ]
  },
  {
   "cell_type": "code",
   "execution_count": null,
   "metadata": {},
   "outputs": [],
   "source": []
  },
  {
   "cell_type": "code",
   "execution_count": null,
   "metadata": {},
   "outputs": [],
   "source": []
  },
  {
   "cell_type": "code",
   "execution_count": null,
   "metadata": {},
   "outputs": [],
   "source": []
  },
  {
   "cell_type": "code",
   "execution_count": null,
   "metadata": {},
   "outputs": [],
   "source": []
  },
  {
   "cell_type": "code",
   "execution_count": null,
   "metadata": {},
   "outputs": [],
   "source": []
  },
  {
   "cell_type": "code",
   "execution_count": null,
   "metadata": {},
   "outputs": [],
   "source": []
  },
  {
   "cell_type": "code",
   "execution_count": null,
   "metadata": {
    "tags": []
   },
   "outputs": [],
   "source": [
    "for step, [past_frames, true_future_frames] in enumerate(train_loader):\n",
    "    print(step, past_frames.size(), true_future_frames.size())\n",
    "    break"
   ]
  },
  {
   "cell_type": "code",
   "execution_count": null,
   "metadata": {},
   "outputs": [],
   "source": [
    "start_time = time.time()\n",
    "epoch = 1"
   ]
  },
  {
   "cell_type": "code",
   "execution_count": null,
   "metadata": {},
   "outputs": [],
   "source": [
    "generator.train()\n",
    "discriminator.train()"
   ]
  },
  {
   "cell_type": "code",
   "execution_count": null,
   "metadata": {},
   "outputs": [],
   "source": [
    "if main_worker and epoch == 0 and step == 0:\n",
    "        global_logger.debug(\"Input:  {}\".format(past_frames.shape))\n",
    "        global_logger.debug(\"--- Sample\")\n",
    "        global_logger.debug(\"Target: {}\".format(true_future_frames.shape))"
   ]
  },
  {
   "cell_type": "code",
   "execution_count": null,
   "metadata": {
    "tags": []
   },
   "outputs": [],
   "source": [
    "past_frames, true_future_frames = past_frames.to(device), true_future_frames.to(device)\n",
    "pred_future_frames = generator(past_frames, future=0)"
   ]
  },
  {
   "cell_type": "code",
   "execution_count": null,
   "metadata": {
    "tags": []
   },
   "outputs": [],
   "source": [
    "pred_future_frames.shape"
   ]
  },
  {
   "cell_type": "code",
   "execution_count": null,
   "metadata": {
    "tags": []
   },
   "outputs": [],
   "source": [
    "# Train discriminator to classify real and predicted frames with label smoothing\n",
    "discriminator.zero_grad()\n",
    "seq_target_frames = true_future_frames.squeeze().view(-1, *true_future_frames.shape[3:])\n",
    "label = torch.empty(seq_target_frames.size(0), device=device).uniform_(0.9, 1)\n",
    "output = discriminator(seq_target_frames).view(-1)\n",
    "discriminator_loss_real = adversarial_loss(output, label)"
   ]
  },
  {
   "cell_type": "code",
   "execution_count": null,
   "metadata": {
    "tags": []
   },
   "outputs": [],
   "source": [
    "predicted_future_frames_individual = pred_future_frames.squeeze().view(-1, *true_future_frames.shape[3:])\n",
    "label = torch.empty(predicted_future_frames_individual.size(0), device=device).uniform_(0, 0.1)\n",
    "output = discriminator(predicted_future_frames_individual).view(-1)\n",
    "discriminator_loss_fake = adversarial_loss(output, label)"
   ]
  },
  {
   "cell_type": "code",
   "execution_count": null,
   "metadata": {
    "tags": []
   },
   "outputs": [],
   "source": [
    "discriminator_loss = discriminator_loss_real + discriminator_loss_fake\n",
    "discriminator_loss.backward(retain_graph=True)\n",
    "discriminator_optimizer.step()"
   ]
  },
  {
   "cell_type": "code",
   "execution_count": null,
   "metadata": {
    "tags": []
   },
   "outputs": [],
   "source": [
    "# Train generator with adversarial loss with label smoothing\n",
    "generator.zero_grad()\n",
    "label = torch.empty(predicted_future_frames_individual.size(0), device=device).uniform_(0.9, 1)\n",
    "output = discriminator(predicted_future_frames_individual).view(-1)"
   ]
  },
  {
   "cell_type": "code",
   "execution_count": null,
   "metadata": {
    "tags": []
   },
   "outputs": [],
   "source": [
    "# Weighted loss for generator model with emphasis on image quality\n",
    "generator_loss = adversarial_loss(output, label) + 4 * l1_l2_loss(\n",
    "    pred_future_frames[:, -num_future_frame:, :, :, :], true_future_frames[:, -num_future_frame:, :, :, :]\n",
    ")"
   ]
  },
  {
   "cell_type": "code",
   "execution_count": null,
   "metadata": {
    "tags": []
   },
   "outputs": [],
   "source": [
    "generator_loss.backward(retain_graph=True)\n",
    "generator_optimizer.step()"
   ]
  },
  {
   "cell_type": "code",
   "execution_count": null,
   "metadata": {
    "tags": []
   },
   "outputs": [],
   "source": [
    "with torch.no_grad():\n",
    "        train_metric = ssim_loss(\n",
    "            pred_future_frames[:, -num_future_frame:, :, :, :],\n",
    "            true_future_frames[:, -num_future_frame:, :, :, :],\n",
    "        )\n",
    "# Log values and store the model outputs on main worker\n",
    "step_time = time.time() - start_time\n",
    "train_loss_list.append(generator_loss.item())\n",
    "train_metric_list.append(train_metric.item())"
   ]
  },
  {
   "cell_type": "code",
   "execution_count": null,
   "metadata": {
    "tags": []
   },
   "outputs": [],
   "source": [
    "past_frames.shape"
   ]
  },
  {
   "cell_type": "code",
   "execution_count": null,
   "metadata": {
    "tags": []
   },
   "outputs": [],
   "source": [
    "# visualize first image of batches of \n",
    "past_frames = torchvision.utils.make_grid(past_frames[0], num_future_frame)\n",
    "true_future_frames = torchvision.utils.make_grid(true_future_frames[0], num_future_frame)\n",
    "pred_future_frames = torchvision.utils.make_grid(pred_future_frames[0], num_future_frame)"
   ]
  },
  {
   "cell_type": "code",
   "execution_count": null,
   "metadata": {
    "tags": []
   },
   "outputs": [],
   "source": [
    "if main_worker:\n",
    "    # if (step + 1) % print_freq == 0:\n",
    "    current_step = epoch * len(train_loader) + step + 1\n",
    "    os.makedirs(f\"../results/{file_identifier}/{current_step:06d}\", exist_ok=True)\n",
    "\n",
    "    plt.imsave(\n",
    "        f\"../results/{file_identifier}/{current_step:06d}/train_feed_seq.png\", past_frames.cpu().permute(1, 2, 0).clamp(0, 1).numpy()\n",
    "    )\n",
    "    plt.imsave(\n",
    "        f\"../results/{file_identifier}/{current_step:06d}/train_gt_seq.png\",\n",
    "        true_future_frames.cpu().permute(1, 2, 0).clamp(0, 1).numpy(),\n",
    "    )\n",
    "    plt.imsave(\n",
    "        f\"../results/{file_identifier}/{current_step:06d}/train_pred_seq.png\",\n",
    "        pred_future_frames.detach().cpu().permute(1, 2, 0).clamp(0, 1).numpy(),\n",
    "    )"
   ]
  },
  {
   "cell_type": "code",
   "execution_count": null,
   "metadata": {
    "tags": []
   },
   "outputs": [],
   "source": [
    "if main_worker:\n",
    "    with open(f\"../results/{file_identifier}/train_loss_list.pkl\", \"wb\") as f:\n",
    "        pickle.dump(train_loss_list, f)\n",
    "    with open(f\"../results/{file_identifier}/test_loss_list.pkl\", \"wb\") as f:\n",
    "        pickle.dump(test_loss_list, f)\n",
    "\n",
    "    with open(f\"../results/{file_identifier}/train_metric_list.pkl\", \"wb\") as f:\n",
    "        pickle.dump(train_metric_list, f)\n",
    "    with open(f\"../results/{file_identifier}/test_metric_list.pkl\", \"wb\") as f:\n",
    "        pickle.dump(test_metric_list, f)"
   ]
  },
  {
   "cell_type": "code",
   "execution_count": null,
   "metadata": {
    "tags": []
   },
   "outputs": [],
   "source": []
  },
  {
   "cell_type": "code",
   "execution_count": null,
   "metadata": {},
   "outputs": [],
   "source": []
  },
  {
   "cell_type": "code",
   "execution_count": null,
   "metadata": {},
   "outputs": [],
   "source": []
  },
  {
   "cell_type": "code",
   "execution_count": null,
   "metadata": {},
   "outputs": [],
   "source": []
  },
  {
   "cell_type": "code",
   "execution_count": null,
   "metadata": {},
   "outputs": [],
   "source": []
  }
 ],
 "metadata": {
  "kernelspec": {
   "display_name": "dls-assignment",
   "language": "python",
   "name": "dls-assignment"
  },
  "language_info": {
   "codemirror_mode": {
    "name": "ipython",
    "version": 3
   },
   "file_extension": ".py",
   "mimetype": "text/x-python",
   "name": "python",
   "nbconvert_exporter": "python",
   "pygments_lexer": "ipython3",
   "version": "3.10.6"
  }
 },
 "nbformat": 4,
 "nbformat_minor": 4
}
